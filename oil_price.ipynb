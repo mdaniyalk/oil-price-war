{
 "cells": [
  {
   "cell_type": "code",
   "execution_count": null,
   "metadata": {},
   "outputs": [],
   "source": [
    "import pandas as pd\n",
    "import numpy as np\n",
    "\n",
    "df = pd.read_csv('oil_price.csv')\n",
    "df"
   ]
  },
  {
   "cell_type": "code",
   "execution_count": null,
   "metadata": {},
   "outputs": [],
   "source": [
    "df['date'] = pd.to_datetime(df['date'], utc=True)\n",
    "df"
   ]
  },
  {
   "cell_type": "code",
   "execution_count": null,
   "metadata": {},
   "outputs": [],
   "source": [
    "df['year'] = df['date'].dt.year\n",
    "df['month'] = df['date'].dt.month\n",
    "df['day'] = df['date'].dt.day\n",
    "df['day'].max()"
   ]
  },
  {
   "cell_type": "code",
   "execution_count": null,
   "metadata": {},
   "outputs": [],
   "source": [
    "df['cos_year'] = np.cos(2 * np.pi * df['year'] / 2024)  # Assuming a year has 2024 days\n",
    "df['sin_year'] = np.sin(2 * np.pi * df['year'] / 2024)\n",
    "\n",
    "df['cos_month'] = np.cos(2 * np.pi * df['month'] / 12)\n",
    "df['sin_month'] = np.sin(2 * np.pi * df['month'] / 12)\n",
    "\n",
    "df['cos_day'] = np.cos(2 * np.pi * df['day'] / 31)  # Assuming a month has 31 days\n",
    "df['sin_day'] = np.sin(2 * np.pi * df['day'] / 31)"
   ]
  },
  {
   "cell_type": "code",
   "execution_count": null,
   "metadata": {},
   "outputs": [],
   "source": [
    "# split the data into train and test\n",
    "from sklearn.model_selection import train_test_split\n",
    "\n",
    "X = df[['cos_year', 'sin_year', 'cos_month', 'sin_month', 'cos_day', 'sin_day']]\n",
    "y = df['close']\n",
    "\n",
    "X_train, X_test, y_train, y_test = train_test_split(X, y, test_size=0.2, shuffle=True, random_state=42)"
   ]
  },
  {
   "cell_type": "code",
   "execution_count": null,
   "metadata": {},
   "outputs": [],
   "source": [
    "import lightgbm as lgb\n",
    "\n",
    "params = {\n",
    "    'objective': 'regression',\n",
    "    'metric': 'mse',  # Mean Squared Error\n",
    "    'boosting_type': 'gbdt',\n",
    "    'num_leaves': 31,\n",
    "    'learning_rate': 0.05,\n",
    "    'feature_fraction': 0.9,\n",
    "    'seed': 42\n",
    "}\n",
    "\n",
    "\n",
    "# Define the LightGBM regressor\n",
    "reg = lgb.LGBMRegressor(**params)"
   ]
  },
  {
   "cell_type": "code",
   "execution_count": null,
   "metadata": {},
   "outputs": [],
   "source": [
    "X_train"
   ]
  },
  {
   "cell_type": "code",
   "execution_count": null,
   "metadata": {},
   "outputs": [],
   "source": [
    "reg.fit(X_train, y_train, verbose=1)"
   ]
  },
  {
   "cell_type": "code",
   "execution_count": null,
   "metadata": {},
   "outputs": [],
   "source": [
    "y_pred = reg.predict(X_test)\n",
    "y_pred"
   ]
  },
  {
   "cell_type": "code",
   "execution_count": null,
   "metadata": {},
   "outputs": [],
   "source": [
    "from sklearn.metrics import mean_squared_error\n",
    "mse = mean_squared_error(y_test, y_pred)\n",
    "rmse = mean_squared_error(y_test, y_pred, squared=False)\n",
    "print(\"MSE: %.2f\" % mse)\n",
    "print(\"RMSE: %.2f\" % rmse) \n",
    " "
   ]
  },
  {
   "cell_type": "code",
   "execution_count": null,
   "metadata": {},
   "outputs": [],
   "source": [
    "import dill as pickle\n",
    "with open(f'predictive.pkl', 'wb') as handle:\n",
    "    pickle.dump(reg, handle, protocol=pickle.HIGHEST_PROTOCOL, recurse=True)"
   ]
  },
  {
   "cell_type": "code",
   "execution_count": null,
   "metadata": {},
   "outputs": [],
   "source": [
    "start_date = pd.to_datetime('today').normalize()\n",
    "end_date = start_date + pd.DateOffset(days=60)\n",
    "\n",
    "date_range = pd.date_range(start=start_date, end=end_date, freq='D')\n",
    "df_next = pd.DataFrame(date_range)\n"
   ]
  },
  {
   "cell_type": "code",
   "execution_count": null,
   "metadata": {},
   "outputs": [],
   "source": [
    "df_next"
   ]
  },
  {
   "cell_type": "code",
   "execution_count": null,
   "metadata": {},
   "outputs": [],
   "source": [
    "df_next['year'] = df_next[0].dt.year\n",
    "df_next['month'] = df_next[0].dt.month\n",
    "df_next['day'] = df_next[0].dt.day\n",
    "\n",
    "df_next['cos_year'] = np.cos(2 * np.pi * df_next['year'] / 2024)\n",
    "df_next['sin_year'] = np.sin(2 * np.pi * df_next['year'] / 2024)\n",
    "\n",
    "df_next['cos_month'] = np.cos(2 * np.pi * df_next['month'] / 12)\n",
    "df_next['sin_month'] = np.sin(2 * np.pi * df_next['month'] / 12)\n",
    "\n",
    "df_next['cos_day'] = np.cos(2 * np.pi * df_next['day'] / 31)  # Assuming a month has 31 days\n",
    "df_next['sin_day'] = np.sin(2 * np.pi * df_next['day'] / 31)"
   ]
  },
  {
   "cell_type": "code",
   "execution_count": null,
   "metadata": {},
   "outputs": [],
   "source": [
    "df_next"
   ]
  },
  {
   "cell_type": "code",
   "execution_count": null,
   "metadata": {},
   "outputs": [],
   "source": [
    "y_pred_next = reg.predict(df_next[X_train.columns])\n",
    "y_pred_next"
   ]
  }
 ],
 "metadata": {
  "kernelspec": {
   "display_name": "base",
   "language": "python",
   "name": "python3"
  },
  "language_info": {
   "codemirror_mode": {
    "name": "ipython",
    "version": 3
   },
   "file_extension": ".py",
   "mimetype": "text/x-python",
   "name": "python",
   "nbconvert_exporter": "python",
   "pygments_lexer": "ipython3",
   "version": "3.10.9"
  }
 },
 "nbformat": 4,
 "nbformat_minor": 2
}
